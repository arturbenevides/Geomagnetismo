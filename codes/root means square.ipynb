{
 "cells": [
  {
   "cell_type": "markdown",
   "metadata": {},
   "source": [
    "# Cálculo do erro médio quadrático para os dados de Vassouras e o IGRF"
   ]
  },
  {
   "cell_type": "markdown",
   "metadata": {},
   "source": [
    "Importando bibliotecas e os dados"
   ]
  },
  {
   "cell_type": "code",
   "execution_count": 1,
   "metadata": {
    "collapsed": true
   },
   "outputs": [],
   "source": [
    "import glob\n",
    "import pandas as pd\n",
    "import numpy as np\n",
    "import math as math\n",
    "import pylab\n",
    "from matplotlib import pyplot as plt\n",
    "import os"
   ]
  },
  {
   "cell_type": "code",
   "execution_count": 2,
   "metadata": {
    "collapsed": false
   },
   "outputs": [],
   "source": [
    "VSS= np.loadtxt(fname='media_anual_VSS.csv', delimiter=',', usecols= (0,1,2,3,4,5,6,7))"
   ]
  },
  {
   "cell_type": "code",
   "execution_count": 3,
   "metadata": {
    "collapsed": true
   },
   "outputs": [],
   "source": [
    "igrf = np.loadtxt(fname='igrf_vassouras.csv', delimiter=',')"
   ]
  },
  {
   "cell_type": "markdown",
   "metadata": {},
   "source": [
    "## Função root Means Square"
   ]
  },
  {
   "cell_type": "markdown",
   "metadata": {},
   "source": [
    " $$ e_{RMS}(\\%) = \\frac{\\sqrt{\\sum_{i=1}^{N}(VSS- IGRF)^{2}}}{N} $$"
   ]
  },
  {
   "cell_type": "code",
   "execution_count": 20,
   "metadata": {
    "collapsed": true
   },
   "outputs": [],
   "source": [
    "def rms_N(x, y):\n",
    "    \n",
    "    '''Essa função calcula o erro entre dois conjuntos de dados'''\n",
    "    \n",
    "    N=x.size\n",
    "    \n",
    "    sum1=0.0\n",
    "    erro=0.0\n",
    "    \n",
    "    for i in range(N):\n",
    "        sum1 = sum1 + (y[i]-x[i])**2\n",
    "        \n",
    "        \n",
    "\n",
    "        erro = np.sqrt(sum1)/N\n",
    "    \n",
    "    return erro"
   ]
  },
  {
   "cell_type": "markdown",
   "metadata": {},
   "source": [
    "\n",
    "### Erro relativo entre conjunto de informações\n"
   ]
  },
  {
   "cell_type": "markdown",
   "metadata": {},
   "source": [
    " $$ e_{RMS}(\\%) = \\frac{\\sqrt{\\sum_{i=1}^{N}(m_{i}^{ver}- m_{i}^{est})^{2}}}{\\sum_{i=1}^{N}(m_{i}^{ver})^{2}} $$"
   ]
  },
  {
   "cell_type": "code",
   "execution_count": 21,
   "metadata": {
    "collapsed": false
   },
   "outputs": [],
   "source": [
    "def rms(x, y):\n",
    "    \n",
    "    '''Essa função calcula o erro entre um conjunto de pontos de um dado em relação a um modelo'''\n",
    "    \n",
    "    N=x.size\n",
    "    \n",
    "    sum1=0.0\n",
    "    sum2=0.0\n",
    "    erro=0.0\n",
    "    \n",
    "    for i in range(N):\n",
    "        sum1 = sum1 + (y[i]-x[i])**2\n",
    "        sum2 = sum2 + (x[i]**2)\n",
    "        \n",
    "\n",
    "        erro = np.sqrt(sum1/sum2)*100\n",
    "    \n",
    "    return erro\n",
    "\t"
   ]
  },
  {
   "cell_type": "markdown",
   "metadata": {},
   "source": [
    "* pequenos testes"
   ]
  },
  {
   "cell_type": "code",
   "execution_count": 22,
   "metadata": {
    "collapsed": true
   },
   "outputs": [],
   "source": [
    "modelo1=np.array([22.2, 20.1, 22.9, 30.5, 27.5, 14.8, 0.0, 39.1, 22.9])\n",
    "\n",
    "dado1=np.array([22.2, 20.15, 22.9, 30.5, 27.5, 14.8, 0.0, 39.1, 22.9])"
   ]
  },
  {
   "cell_type": "code",
   "execution_count": 23,
   "metadata": {
    "collapsed": false
   },
   "outputs": [
    {
     "data": {
      "text/plain": [
       "20.100000000000001"
      ]
     },
     "execution_count": 23,
     "metadata": {},
     "output_type": "execute_result"
    }
   ],
   "source": [
    "modelo1[1]"
   ]
  },
  {
   "cell_type": "code",
   "execution_count": 24,
   "metadata": {
    "collapsed": false
   },
   "outputs": [],
   "source": [
    "erro=rms(dado1, modelo1) \n",
    "erro_n=rms_N(dado1, modelo1)"
   ]
  },
  {
   "cell_type": "code",
   "execution_count": 25,
   "metadata": {
    "collapsed": false
   },
   "outputs": [
    {
     "name": "stdout",
     "output_type": "stream",
     "text": [
      "erro RMS 0.0681548625612 erro RMS_Normal 0.00555555555556\n"
     ]
    }
   ],
   "source": [
    "print('erro RMS', erro, 'erro RMS_Normal', erro_n)"
   ]
  },
  {
   "cell_type": "markdown",
   "metadata": {},
   "source": [
    "# Cáculo do erro para as componentes $$X ,  Y ,  Z ,  H ,  D ,  I ,  F$$"
   ]
  },
  {
   "cell_type": "markdown",
   "metadata": {},
   "source": [
    "### Componente X"
   ]
  },
  {
   "cell_type": "code",
   "execution_count": 26,
   "metadata": {
    "collapsed": false
   },
   "outputs": [],
   "source": [
    "#Dados:\n",
    "x = VSS[:,4]  #Dado do observatório\n",
    "igrf_x = igrf[:,7] # Dado do modelo IGFR"
   ]
  },
  {
   "cell_type": "code",
   "execution_count": 27,
   "metadata": {
    "collapsed": true
   },
   "outputs": [],
   "source": [
    "errox=rms(igrf_x, x)\n",
    "\n",
    "erroxn=rms_N(igrf_x, x)"
   ]
  },
  {
   "cell_type": "code",
   "execution_count": 28,
   "metadata": {
    "collapsed": false
   },
   "outputs": [
    {
     "name": "stdout",
     "output_type": "stream",
     "text": [
      "RMS X (%)= 0.249953478822\n",
      "RMS normal X = 5.2304504585\n"
     ]
    }
   ],
   "source": [
    "print('RMS X (%)=', errox)\n",
    "print('RMS normal X =', erroxn)"
   ]
  },
  {
   "cell_type": "markdown",
   "metadata": {},
   "source": [
    "### Componente Y"
   ]
  },
  {
   "cell_type": "code",
   "execution_count": 29,
   "metadata": {
    "collapsed": false
   },
   "outputs": [],
   "source": [
    "#Dados:\n",
    "y = VSS[:,5]        # VSS\n",
    "igrf_y = igrf[:,9]  #igrf\n",
    "\n",
    "erroy= rms(y, igrf_y)\n",
    "\n",
    "erroyn= rms_N(igrf_y, y)\n",
    "\n"
   ]
  },
  {
   "cell_type": "code",
   "execution_count": 30,
   "metadata": {
    "collapsed": false
   },
   "outputs": [
    {
     "name": "stdout",
     "output_type": "stream",
     "text": [
      "RMS Y (%)= 1.98182965749\n",
      "RMS normal Y= 12.4574051253\n"
     ]
    }
   ],
   "source": [
    "print('RMS Y (%)=', erroy)\n",
    "print('RMS normal Y=', erroyn)"
   ]
  },
  {
   "cell_type": "markdown",
   "metadata": {},
   "source": [
    "### Componente Z"
   ]
  },
  {
   "cell_type": "code",
   "execution_count": 31,
   "metadata": {
    "collapsed": false
   },
   "outputs": [
    {
     "name": "stdout",
     "output_type": "stream",
     "text": [
      "RMS Z (%)= 1.2287088226\n",
      "RMS Z N (%)= 12.6767708647\n"
     ]
    }
   ],
   "source": [
    "#Dados:\n",
    "z = VSS[:,6]\n",
    "igrf_z = igrf[:,11]\n",
    "\n",
    "erroz= rms(z, igrf_z)\n",
    "errozn= rms_N(z, igrf_z)\n",
    "\n",
    "print('RMS Z (%)=', erroz)\n",
    "print('RMS Z N (%)=', errozn)"
   ]
  },
  {
   "cell_type": "markdown",
   "metadata": {},
   "source": [
    "### Intensidade do campo magnético  F"
   ]
  },
  {
   "cell_type": "code",
   "execution_count": 32,
   "metadata": {
    "collapsed": false
   },
   "outputs": [
    {
     "name": "stdout",
     "output_type": "stream",
     "text": [
      "RMS F (%)= 0.191201965973\n",
      "RMS normal F = 4.62735459501\n"
     ]
    }
   ],
   "source": [
    "#Dados:\n",
    "f = VSS[:,7]\n",
    "igrf_f = igrf[:,13]\n",
    "\n",
    "errof= rms(f, igrf_f)\n",
    "errofn= rms_N(f, igrf_f)\n",
    "\n",
    "\n",
    "print('RMS F (%)=', errof)\n",
    "print('RMS normal F =', errofn)"
   ]
  },
  {
   "cell_type": "markdown",
   "metadata": {},
   "source": [
    "### Incliniação Magnética"
   ]
  },
  {
   "cell_type": "code",
   "execution_count": 33,
   "metadata": {
    "collapsed": false
   },
   "outputs": [
    {
     "name": "stdout",
     "output_type": "stream",
     "text": [
      "RMS I (%)= 1.10103422428\n",
      "RMS normal  I= 0.0283730027474\n"
     ]
    }
   ],
   "source": [
    "#Dados:\n",
    "inc = VSS[:,2]\n",
    "i= inc/60\n",
    "\n",
    "igrf_i = igrf[:,3]\n",
    "\n",
    "erroi= rms(i, igrf_i)\n",
    "erroin= rms_N(i, igrf_i)\n",
    "\n",
    "print('RMS I (%)=', erroi)\n",
    "print('RMS normal  I=', erroin)"
   ]
  },
  {
   "cell_type": "markdown",
   "metadata": {},
   "source": [
    "### Declinação magnética"
   ]
  },
  {
   "cell_type": "code",
   "execution_count": 34,
   "metadata": {
    "collapsed": false
   },
   "outputs": [
    {
     "name": "stdout",
     "output_type": "stream",
     "text": [
      "RMS D (%)= 1.88178571356\n",
      "RMS normal = 0.0324509261538\n"
     ]
    }
   ],
   "source": [
    "#Dados:\n",
    "decli = VSS[:,1]\n",
    "d= decli/60\n",
    "igrf_d = igrf[:,1]\n",
    "\n",
    "errod= rms(d, igrf_d)\n",
    "errodn= rms_N(d, igrf_d)\n",
    "\n",
    "print('RMS D (%)=', errod)\n",
    "print('RMS normal =', errodn)"
   ]
  },
  {
   "cell_type": "markdown",
   "metadata": {},
   "source": [
    "### Componente H"
   ]
  },
  {
   "cell_type": "code",
   "execution_count": 35,
   "metadata": {
    "collapsed": false
   },
   "outputs": [
    {
     "name": "stdout",
     "output_type": "stream",
     "text": [
      "RMS H (%)= 0.169512593854\n",
      "RMS normal H= 3.71096981013\n"
     ]
    }
   ],
   "source": [
    "#Dados:\n",
    "h = VSS[:,3]\n",
    "igrf_h = igrf[:,5]\n",
    "\n",
    "erroh= rms(h, igrf_h)\n",
    "errohn= rms_N(h, igrf_h)\n",
    "\n",
    "print('RMS H (%)=', erroh)\n",
    "print('RMS normal H=', errohn)"
   ]
  },
  {
   "cell_type": "code",
   "execution_count": null,
   "metadata": {
    "collapsed": true
   },
   "outputs": [],
   "source": []
  },
  {
   "cell_type": "code",
   "execution_count": null,
   "metadata": {
    "collapsed": true
   },
   "outputs": [],
   "source": []
  },
  {
   "cell_type": "code",
   "execution_count": null,
   "metadata": {
    "collapsed": true
   },
   "outputs": [],
   "source": []
  }
 ],
 "metadata": {
  "kernelspec": {
   "display_name": "Python 3",
   "language": "python",
   "name": "python3"
  },
  "language_info": {
   "codemirror_mode": {
    "name": "ipython",
    "version": 3
   },
   "file_extension": ".py",
   "mimetype": "text/x-python",
   "name": "python",
   "nbconvert_exporter": "python",
   "pygments_lexer": "ipython3",
   "version": "3.6.0"
  }
 },
 "nbformat": 4,
 "nbformat_minor": 2
}
