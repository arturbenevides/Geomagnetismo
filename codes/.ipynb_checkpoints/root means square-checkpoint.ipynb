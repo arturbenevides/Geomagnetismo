{
 "cells": [
  {
   "cell_type": "markdown",
   "metadata": {},
   "source": [
    "# Cálculo do erro médio quadrático para os dados de Vassouras e o IGRF"
   ]
  },
  {
   "cell_type": "markdown",
   "metadata": {},
   "source": [
    "Importando bibliotecas e os dados"
   ]
  },
  {
   "cell_type": "code",
   "execution_count": 1,
   "metadata": {
    "collapsed": true
   },
   "outputs": [],
   "source": [
    "import glob\n",
    "import pandas as pd\n",
    "import numpy as np\n",
    "import math as math\n",
    "import pylab\n",
    "from matplotlib import pyplot as plt\n",
    "import os"
   ]
  },
  {
   "cell_type": "code",
   "execution_count": 2,
   "metadata": {
    "collapsed": false
   },
   "outputs": [],
   "source": [
    "VSS= np.loadtxt(fname='media_anual_VSS.csv', delimiter=',', usecols= (0,1,2,3,4,5,6,7))"
   ]
  },
  {
   "cell_type": "code",
   "execution_count": 3,
   "metadata": {
    "collapsed": true
   },
   "outputs": [],
   "source": [
    "igrf = np.loadtxt(fname='igrf_vassouras.csv', delimiter=',')"
   ]
  },
  {
   "cell_type": "markdown",
   "metadata": {},
   "source": [
    "### Função root Means Square\n",
    "\n"
   ]
  },
  {
   "cell_type": "markdown",
   "metadata": {},
   "source": [
    "$$ e_{RMS} = \\sqrt{x^{2}-y{2}^} $$"
   ]
  },
  {
   "cell_type": "code",
   "execution_count": 45,
   "metadata": {
    "collapsed": false
   },
   "outputs": [],
   "source": [
    "def rms(x, y):\n",
    "    \n",
    "    '''Essa função calcula o erro entre um conjunto de pontos de um dado em relação a um modelo'''\n",
    "    \n",
    "    N=x.size\n",
    "    \n",
    "    sum1=0.0\n",
    "    sum2=0.0\n",
    "    erro=0.0\n",
    "    \n",
    "    for i in range(N):\n",
    "        sum1 = sum1 + (y[i]-x[i])**2\n",
    "        sum2 = sum2 + (x[i]**2)\n",
    "        \n",
    "\n",
    "        erro = np.sqrt(sum1/sum2)*100\n",
    "    \n",
    "    return erro\n",
    "\t"
   ]
  },
  {
   "cell_type": "markdown",
   "metadata": {},
   "source": [
    "* pequenos testes"
   ]
  },
  {
   "cell_type": "code",
   "execution_count": 65,
   "metadata": {
    "collapsed": true
   },
   "outputs": [],
   "source": [
    "modelo1=np.array([22.2, 20.1, 22.9, 30.5, 27.5, 14.8, 0.0, 39.1, 22.9])\n",
    "\n",
    "dado1=np.array([22.2, 20.15, 22.9, 30.5, 27.5, 14.8, 0.0, 39.1, 22.9])"
   ]
  },
  {
   "cell_type": "code",
   "execution_count": 66,
   "metadata": {
    "collapsed": false
   },
   "outputs": [
    {
     "data": {
      "text/plain": [
       "20.100000000000001"
      ]
     },
     "execution_count": 66,
     "metadata": {},
     "output_type": "execute_result"
    }
   ],
   "source": [
    "modelo1[1]"
   ]
  },
  {
   "cell_type": "code",
   "execution_count": 67,
   "metadata": {
    "collapsed": false
   },
   "outputs": [],
   "source": [
    "erro=rms(dado1, modelo1)   "
   ]
  },
  {
   "cell_type": "code",
   "execution_count": 68,
   "metadata": {
    "collapsed": false
   },
   "outputs": [
    {
     "name": "stdout",
     "output_type": "stream",
     "text": [
      "erro RMS 0.0681548625612\n"
     ]
    }
   ],
   "source": [
    "print('erro RMS', erro)"
   ]
  },
  {
   "cell_type": "markdown",
   "metadata": {},
   "source": [
    "# Cáculo do erro para as componentes X,Y,Z,H,D,I,F"
   ]
  },
  {
   "cell_type": "markdown",
   "metadata": {},
   "source": [
    "### Componente X"
   ]
  },
  {
   "cell_type": "code",
   "execution_count": 79,
   "metadata": {
    "collapsed": false
   },
   "outputs": [],
   "source": [
    "#Dados:\n",
    "x = VSS[:,4]  #Dado do observatório\n",
    "igrf_x = igrf[:,7] # Dado do modelo IGFR"
   ]
  },
  {
   "cell_type": "code",
   "execution_count": 80,
   "metadata": {
    "collapsed": true
   },
   "outputs": [],
   "source": [
    "errox=rms(x,igrf_x)"
   ]
  },
  {
   "cell_type": "code",
   "execution_count": 82,
   "metadata": {
    "collapsed": false
   },
   "outputs": [
    {
     "name": "stdout",
     "output_type": "stream",
     "text": [
      "RMS X (%)= 0.249432830916\n"
     ]
    }
   ],
   "source": [
    "print('RMS X (%)=', errox)"
   ]
  },
  {
   "cell_type": "markdown",
   "metadata": {},
   "source": [
    "### Componente Y"
   ]
  },
  {
   "cell_type": "code",
   "execution_count": 83,
   "metadata": {
    "collapsed": false
   },
   "outputs": [
    {
     "name": "stdout",
     "output_type": "stream",
     "text": [
      "RMS Y (%)= 1.98182965749\n"
     ]
    }
   ],
   "source": [
    "#Dados:\n",
    "y = VSS[:,5]        # VSS\n",
    "igrf_y = igrf[:,9]  #igrf\n",
    "\n",
    "erroy= rms(y, igrf_y)\n",
    "\n",
    "print('RMS Y (%)=', erroy)"
   ]
  },
  {
   "cell_type": "markdown",
   "metadata": {},
   "source": [
    "### Componente Z"
   ]
  },
  {
   "cell_type": "code",
   "execution_count": 86,
   "metadata": {
    "collapsed": false
   },
   "outputs": [
    {
     "name": "stdout",
     "output_type": "stream",
     "text": [
      "RMS Z (%)= 1.2287088226\n"
     ]
    }
   ],
   "source": [
    "#Dados:\n",
    "z = VSS[:,6]\n",
    "igrf_z = igrf[:,11]\n",
    "\n",
    "erroz= rms(z, igrf_z)\n",
    "\n",
    "print('RMS Z (%)=', erroz)"
   ]
  },
  {
   "cell_type": "markdown",
   "metadata": {},
   "source": [
    "### Intensidade do campo magnético  F"
   ]
  },
  {
   "cell_type": "code",
   "execution_count": 87,
   "metadata": {
    "collapsed": false
   },
   "outputs": [
    {
     "name": "stdout",
     "output_type": "stream",
     "text": [
      "RMS F (%)= 0.191201965973\n"
     ]
    }
   ],
   "source": [
    "#Dados:\n",
    "f = VSS[:,7]\n",
    "igrf_f = igrf[:,13]\n",
    "\n",
    "errof= rms(f, igrf_f)\n",
    "\n",
    "print('RMS F (%)=', errof)"
   ]
  },
  {
   "cell_type": "markdown",
   "metadata": {},
   "source": [
    "### Incliniação Magnética"
   ]
  },
  {
   "cell_type": "code",
   "execution_count": 89,
   "metadata": {
    "collapsed": false
   },
   "outputs": [
    {
     "name": "stdout",
     "output_type": "stream",
     "text": [
      "RMS I (%)= 1.10103422428\n"
     ]
    }
   ],
   "source": [
    "#Dados:\n",
    "inc = VSS[:,2]\n",
    "i= inc/60\n",
    "\n",
    "igrf_i = igrf[:,3]\n",
    "\n",
    "erroi= rms(i, igrf_i)\n",
    "\n",
    "print('RMS I (%)=', erroi)"
   ]
  },
  {
   "cell_type": "markdown",
   "metadata": {},
   "source": [
    "### Declinação magnética"
   ]
  },
  {
   "cell_type": "code",
   "execution_count": 91,
   "metadata": {
    "collapsed": false
   },
   "outputs": [
    {
     "name": "stdout",
     "output_type": "stream",
     "text": [
      "RMS D (%)= 1.88178571356\n"
     ]
    }
   ],
   "source": [
    "#Dados:\n",
    "decli = VSS[:,1]\n",
    "d= decli/60\n",
    "igrf_d = igrf[:,1]\n",
    "\n",
    "errod= rms(d, igrf_d)\n",
    "\n",
    "print('RMS D (%)=', errod)"
   ]
  },
  {
   "cell_type": "markdown",
   "metadata": {},
   "source": [
    "### Componente H"
   ]
  },
  {
   "cell_type": "code",
   "execution_count": 93,
   "metadata": {
    "collapsed": false
   },
   "outputs": [
    {
     "name": "stdout",
     "output_type": "stream",
     "text": [
      "RMS H (%)= 0.169443261653\n"
     ]
    }
   ],
   "source": [
    "#Dados:\n",
    "h = VSS[:,3]\n",
    "igrf_h = igrf[:,5]\n",
    "\n",
    "erroh= rms(h, igrf_h)\n",
    "\n",
    "print('RMS H (%)=', erroh)"
   ]
  },
  {
   "cell_type": "code",
   "execution_count": null,
   "metadata": {
    "collapsed": true
   },
   "outputs": [],
   "source": []
  }
 ],
 "metadata": {
  "kernelspec": {
   "display_name": "Python 3",
   "language": "python",
   "name": "python3"
  },
  "language_info": {
   "codemirror_mode": {
    "name": "ipython",
    "version": 3
   },
   "file_extension": ".py",
   "mimetype": "text/x-python",
   "name": "python",
   "nbconvert_exporter": "python",
   "pygments_lexer": "ipython3",
   "version": "3.6.0"
  }
 },
 "nbformat": 4,
 "nbformat_minor": 2
}
