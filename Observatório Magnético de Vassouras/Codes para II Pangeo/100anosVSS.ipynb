{
 "cells": [
  {
   "cell_type": "markdown",
   "metadata": {
    "collapsed": true
   },
   "source": [
    "# Rotinas para plotagem dos gráficos com as componentes do Campo Geomagnéticos observados em VSS e suas variações seculares"
   ]
  },
  {
   "cell_type": "markdown",
   "metadata": {},
   "source": [
    "*Importando as bibliotecas necessárias"
   ]
  },
  {
   "cell_type": "code",
   "execution_count": 47,
   "metadata": {
    "collapsed": true
   },
   "outputs": [],
   "source": [
    "import numpy as np\n",
    "import matplotlib.pyplot as plt\n",
    "import pylab\n",
    "import glob\n",
    "import pandas as pd\n",
    "import math as math\n",
    "import os"
   ]
  },
  {
   "cell_type": "code",
   "execution_count": 50,
   "metadata": {
    "collapsed": true
   },
   "outputs": [],
   "source": [
    "VSS= np.loadtxt(fname='media_anual_VSS.csv', delimiter=',', usecols= (0,1,2,3,4,5,6,7))"
   ]
  },
  {
   "cell_type": "code",
   "execution_count": 55,
   "metadata": {
    "collapsed": false
   },
   "outputs": [],
   "source": [
    "igrf = np.loadtxt(fname='igrf_vassouras.csv', delimiter=',')"
   ]
  },
  {
   "cell_type": "markdown",
   "metadata": {
    "collapsed": false,
    "scrolled": true
   },
   "source": [
    "# Obtenção da variação secular (VS) de cada componete do campo principal.\n",
    "\n",
    "### Usando a função `sec_var(a)` iremos determinar para cada compnente (x,y, z, f, i, h e d)\n",
    "\n",
    "*Os cálculos foram feitos para os dados de vassouras e tbem para o modelo igrf (nesse já havia os valores de VS, entretanto não parecia muito confiável)."
   ]
  },
  {
   "cell_type": "code",
   "execution_count": 56,
   "metadata": {
    "collapsed": true
   },
   "outputs": [],
   "source": [
    "def sec_var(a):\n",
    "    \"determine secular variation for components of geomagnetic field.\"\n",
    "    '''\n",
    "    a - column data\n",
    "    '''\n",
    "    \n",
    "    N = a.size\n",
    "    sv = np.zeros(N)\n",
    "    \n",
    "    for i in range(N-1):\n",
    "        sv[i+1] = a[i+1] - a[i]\n",
    "    \n",
    "    return sv"
   ]
  },
  {
   "cell_type": "code",
   "execution_count": 57,
   "metadata": {
    "collapsed": false
   },
   "outputs": [],
   "source": [
    "#SECULAR VARIATION FOR VASSOURAS MAGNETIC OBSERVATORY DATA FROM 1915 TO 2015:\n",
    "  \n",
    "sv_d = sec_var(VSS[:,1])\n",
    "sv_i = sec_var(VSS[:,2])\n",
    "sv_x = sec_var(VSS[:,4])\n",
    "sv_y = sec_var(VSS[:,5])\n",
    "sv_z = sec_var(VSS[:,6])\n",
    "sv_f = sec_var(VSS[:,7])"
   ]
  },
  {
   "cell_type": "markdown",
   "metadata": {},
   "source": [
    "# Gráficos "
   ]
  },
  {
   "cell_type": "markdown",
   "metadata": {},
   "source": [
    "*Testando as dimensões dos eixos X e Y"
   ]
  },
  {
   "cell_type": "code",
   "execution_count": 59,
   "metadata": {
    "collapsed": false,
    "scrolled": true
   },
   "outputs": [
    {
     "name": "stdout",
     "output_type": "stream",
     "text": [
      "yr 101\n",
      "D 101\n",
      "igrf 101\n"
     ]
    }
   ],
   "source": [
    "yr=VSS[:,0]\n",
    "print('yr', len(yr))\n",
    "d = VSS[:,1]\n",
    "print('D', len(d))\n",
    "igrf_d=igrf[:,1]\n",
    "print('igrf',len(igrf))"
   ]
  },
  {
   "cell_type": "code",
   "execution_count": 68,
   "metadata": {
    "collapsed": false
   },
   "outputs": [
    {
     "data": {
      "image/png": "[encoded data removed]",
      "text/plain": [
       "<matplotlib.figure.Figure at 0x23dafb27748>"
      ]
     },
     "metadata": {},
     "output_type": "display_data"
    }
   ],
   "source": [
    "yr= VSS[:,0]\n",
    "decli = VSS[:,1]\n",
    "d= decli/60\n",
    "igrf_d = igrf[:,1]\n",
    "\n",
    "fig = plt.figure(figsize=(10.0, 5.0))\n",
    "\n",
    "Vass = plt.scatter(yr,d , 8, label=\"VSS\", color='black')\n",
    "IGRF = plt.plot(yr,igrf_d, label=\"IGRF\", linestyle='solid', color='black', linewidth=2)\n",
    "\n",
    "#plt.title('Declination from Vassouras Magnetic Observatory (1915-2008)')\n",
    "plt.legend([Vass], [\"Vass\"])\n",
    "plt.legend()\n",
    "\n",
    "plt.ylabel('D ($^\\circ)$', fontsize=14)\n",
    "plt.xlabel('Years', fontsize=14)\n",
    "#plt.ylabel('Declination (degree)')\n",
    "#plt.xlabel('Years')\n",
    "plt.xticks(np.arange(1915, 2016, 10))\n",
    "pylab.xlim([1915,2015])\n",
    "plt.show()\n",
    "\n",
    "fig.savefig('D.png', dpi=300)\n",
    "\n",
    "#plt.grid(True)\n",
    "\n",
    "#pylab.ylim([15000,25000])\n",
    "\n",
    "#plt.savefig('Z_1915-2015.png', bbox_inches='tight',dpi=500)\n",
    "#plt.show()"
   ]
  },
  {
   "cell_type": "code",
   "execution_count": 75,
   "metadata": {
    "collapsed": false
   },
   "outputs": [
    {
     "data": {
      "image/png": "[encoded data removed]",
      "text/plain": [
       "<matplotlib.figure.Figure at 0x23daa20b5c0>"
      ]
     },
     "metadata": {},
     "output_type": "display_data"
    }
   ],
   "source": [
    "yr= VSS[:,0]\n",
    "sv_x = sec_var(VSS[:,1])\n",
    "#igrf_svd = sec_var(igrf[:,1])\n",
    "\n",
    "fig = plt.figure(figsize=(15.0, 5.0))\n",
    "\n",
    "Vass = plt.scatter(yr,sv_x, label=\"VSS\", color='red')\n",
    "#IGRF = plt.scatter(yr,sv_d, label=\"IGRF\", color='gray')\n",
    "\n",
    "plt.title('Secular Variation for Declination from Vassouras Magnetic Observatory (1915-2015)')\n",
    "plt.legend([Vass], [\"Vass\"])\n",
    "plt.legend()\n",
    "\n",
    "\n",
    "plt.ylabel('SV d')\n",
    "plt.xlabel('Years')\n",
    "plt.show()\n",
    "\n",
    "fig.savefig('SV_D.png', dpi=300)"
   ]
  },
  {
   "cell_type": "code",
   "execution_count": null,
   "metadata": {
    "collapsed": true
   },
   "outputs": [],
   "source": []
  }
 ],
 "metadata": {
  "kernelspec": {
   "display_name": "Python 3",
   "language": "python",
   "name": "python3"
  },
  "language_info": {
   "codemirror_mode": {
    "name": "ipython",
    "version": 3
   },
   "file_extension": ".py",
   "mimetype": "text/x-python",
   "name": "python",
   "nbconvert_exporter": "python",
   "pygments_lexer": "ipython3",
   "version": "3.6.0"
  }
 },
 "nbformat": 4,
 "nbformat_minor": 2
}
