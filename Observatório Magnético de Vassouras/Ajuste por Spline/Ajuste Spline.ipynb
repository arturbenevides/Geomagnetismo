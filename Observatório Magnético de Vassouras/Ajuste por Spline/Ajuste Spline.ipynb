{
 "cells": [
  {
   "cell_type": "code",
   "execution_count": 2,
   "metadata": {
    "collapsed": true
   },
   "outputs": [],
   "source": [
    "import numpy as np\n",
    "import matplotlib.pyplot as plt\n",
    "import pylab\n",
    "import glob\n",
    "import pandas as pd\n",
    "import math as math\n",
    "import os"
   ]
  },
  {
   "cell_type": "code",
   "execution_count": 74,
   "metadata": {
    "collapsed": true
   },
   "outputs": [],
   "source": [
    "VSS= np.loadtxt(fname='media_anual_VSS.csv', delimiter=',', usecols= (0,1,2,3,4,5,6,7))"
   ]
  },
  {
   "cell_type": "code",
   "execution_count": 75,
   "metadata": {
    "collapsed": false
   },
   "outputs": [
    {
     "data": {
      "text/plain": [
       "array([ 24308.,  24238.,  24206.,  24021.,  23968.,  23932.,  23895.,\n",
       "        23853.,  23810.,  23764.,  23717.,  23668.,  23619.,  23569.,\n",
       "        23520.,  23471.,  23424.,  23380.,  23339.,  23297.,  23257.,\n",
       "        23213.,  23163.,  23111.,  23059.,  23004.,  22949.,  22891.,\n",
       "        22830.,  22764.,  22694.,  22621.,  22547.,  22474.,  22400.,\n",
       "        22357.,  22249.,  22166.,  22092.,  22018.,  21941.,  21848.,\n",
       "        21766.,  21696.,  21658.,  21579.,  21501.,  21407.,  21320.,\n",
       "        21259.,  21182.,  21102.,  21023.,  20935.,  20859.,  20782.,\n",
       "        20699.,  20625.,  20531.,  20448.,  20376.,  20303.,  20205.,\n",
       "        20132.,  20041.,  19952.,  19871.,  19740.,  19615.,  19559.,\n",
       "        19489.,  19406.,  19320.,  19237.,  19151.,  19062.,  18961.,\n",
       "        18888.,  18790.,  18715.,  18623.,  18564.,  18454.,  18361.,\n",
       "        18274.,  18185.,  18106.,  18022.,  17927.,  17856.,  17759.,\n",
       "        17699.,  17622.,  17537.,  17452.,  17338.,  17230.,  17099.,\n",
       "        17031.,  16942.,  16841.])"
      ]
     },
     "execution_count": 75,
     "metadata": {},
     "output_type": "execute_result"
    }
   ],
   "source": [
    "VSS[:,4]"
   ]
  },
  {
   "cell_type": "code",
   "execution_count": 76,
   "metadata": {
    "collapsed": true
   },
   "outputs": [],
   "source": [
    "def sec_var(a):\n",
    "    \"determine secular variation for components of geomagnetic field.\"\n",
    "    '''\n",
    "    a - column data\n",
    "    '''\n",
    "    \n",
    "    N = a.size\n",
    "    sv = np.zeros(N)\n",
    "    \n",
    "    for i in range(N-1):\n",
    "        sv[i+1] = a[i+1] - a[i]\n",
    "    \n",
    "    return sv"
   ]
  },
  {
   "cell_type": "code",
   "execution_count": 77,
   "metadata": {
    "collapsed": true
   },
   "outputs": [],
   "source": [
    "#SECULAR VARIATION FOR VASSOURAS MAGNETIC OBSERVATORY DATA FROM 1915 TO 2015:\n",
    "\n",
    "Year = VSS[:,0]\n",
    "sv_d = sec_var(VSS[:,1])\n",
    "sv_i = sec_var(VSS[:,2])\n",
    "sv_x = sec_var(VSS[:,4])\n",
    "sv_y = sec_var(VSS[:,5])\n",
    "sv_z = sec_var(VSS[:,6])\n",
    "sv_f = sec_var(VSS[:,7])"
   ]
  },
  {
   "cell_type": "code",
   "execution_count": 78,
   "metadata": {
    "collapsed": false
   },
   "outputs": [
    {
     "name": "stdout",
     "output_type": "stream",
     "text": [
      "year 101\n",
      "sv_x 101\n"
     ]
    }
   ],
   "source": [
    "print('year', len(Year))\n",
    "print('sv_x', len(sv_x))"
   ]
  },
  {
   "cell_type": "code",
   "execution_count": 79,
   "metadata": {
    "collapsed": false
   },
   "outputs": [
    {
     "data": {
      "text/plain": [
       "array([   0.,  -70.,  -32., -185.,  -53.,  -36.,  -37.,  -42.,  -43.,\n",
       "        -46.,  -47.,  -49.,  -49.,  -50.,  -49.,  -49.,  -47.,  -44.,\n",
       "        -41.,  -42.,  -40.,  -44.,  -50.,  -52.,  -52.,  -55.,  -55.,\n",
       "        -58.,  -61.,  -66.,  -70.,  -73.,  -74.,  -73.,  -74.,  -43.,\n",
       "       -108.,  -83.,  -74.,  -74.,  -77.,  -93.,  -82.,  -70.,  -38.,\n",
       "        -79.,  -78.,  -94.,  -87.,  -61.,  -77.,  -80.,  -79.,  -88.,\n",
       "        -76.,  -77.,  -83.,  -74.,  -94.,  -83.,  -72.,  -73.,  -98.,\n",
       "        -73.,  -91.,  -89.,  -81., -131., -125.,  -56.,  -70.,  -83.,\n",
       "        -86.,  -83.,  -86.,  -89., -101.,  -73.,  -98.,  -75.,  -92.,\n",
       "        -59., -110.,  -93.,  -87.,  -89.,  -79.,  -84.,  -95.,  -71.,\n",
       "        -97.,  -60.,  -77.,  -85.,  -85., -114., -108., -131.,  -68.,\n",
       "        -89., -101.])"
      ]
     },
     "execution_count": 79,
     "metadata": {},
     "output_type": "execute_result"
    }
   ],
   "source": [
    "sv_x"
   ]
  },
  {
   "cell_type": "code",
   "execution_count": 80,
   "metadata": {
    "collapsed": false
   },
   "outputs": [
    {
     "name": "stderr",
     "output_type": "stream",
     "text": [
      "C:\\ProgramData\\Anaconda3\\lib\\site-packages\\matplotlib\\font_manager.py:1297: UserWarning: findfont: Font family ['sans-serif'] not found. Falling back to DejaVu Sans\n",
      "  (prop.get_family(), self.defaultFamily[fontext]))\n"
     ]
    },
    {
     "data": {
      "image/png": "[encoded data removed]",
      "text/plain": [
       "<matplotlib.figure.Figure at 0x29bb1b0d9e8>"
      ]
     },
     "metadata": {},
     "output_type": "display_data"
    }
   ],
   "source": [
    "\n",
    "\n",
    "#plt.rc('font', **{'family':'sans-serif', 'sans-serif':['Helvetica']})\n",
    "\n",
    "def splerp(t, control_points):\n",
    "  if len(control_points) == 1:\n",
    "    return control_points[0]\n",
    "\n",
    "  derived_points = []\n",
    "  for (x0, y0), (x1, y1) in zip(control_points, control_points[1:]):\n",
    "    x = x0 + t*(x1-x0)\n",
    "    y = y0 + t*(y1-y0)\n",
    "    derived_points.append((x, y))\n",
    "\n",
    "  return splerp(t, derived_points)\n",
    "\n",
    "\n",
    "def plot_spline(control_points, fig_name=\"spline\"):\n",
    "  interpolated_points = []\n",
    "  for t in np.arange(0, 1, 0.1):\n",
    "    interpolated_points.append(splerp(t, control_points))\n",
    "\n",
    "  plt.figure(0)\n",
    "  plt.clf()\n",
    "  plt.plot([p[0] for p in interpolated_points], [p[1] for p in interpolated_points])\n",
    "  plt.title('Spline Curve with ' + str(len(control_points)) + ' Control Points')\n",
    "  plt.xlabel('Year')\n",
    "  plt.ylabel('$ dX/dt$')\n",
    "  plt.savefig(fig_name+\".png\")\n",
    "  plt.show()\n",
    "\n",
    "\n",
    "#plot_spline([(0, 0), (3, 6)], 'spline2')\n",
    "plot_spline([(1915, -70), (1916, -32), (1917, -185), (1918, -53), (1919,-36),(1920,-37),(1921,-42.),  (1922,-43.),\n",
    "        (1923,-46.), (1924,-47.), (1925,-49.),(1926, -49.), (1927,-50.),(1928, -49.), (1929,-49.), (1930,-47.), \n",
    "        (1931,-44.), (1932,-41.), (1933,-42.),(1934, -40.), (1935,-44.),(1936, -50.), (1937,-52.), (1938,-52.),\n",
    "        (1939,-55.), (1940,-55.), (1941,-58.),(1942, -61.), (1943,-66.),(1944,-70.),(1945,-73.),(1946,-74.),(1947,-73.),\n",
    "        (1948,-74.), (1949,-43.), (1950,-108.),(1951,-83.), (1952,-74.),(1953,-74.),(1954,-77.),(1955,-93.),(1956,-82.), \n",
    "        (1957,-70.), (1958,-38.), (1959,-79.), (1960,-78.), (1961,-94.),(1962,-87.),(1963,-61.),(1964,-77.),(1965,-80.),\n",
    "        (1966,-79.), (1967,-88.), (1968,-76.), (1969,-77.), (1970,-83.),(1971,-74.),(1972,-94.),(1973,-83.),(1974,-72.),\n",
    "        (1975,-73.), (1976,-98.), (1977,-73.), (1978,-91.), (1979,-89.),(1980,-81.),(1981,-131.),(1982,-125.),\n",
    "        (1983,-56.), (1984,-70.), (1985,-83.), (1986,-86.), (1987,-83.),(1988,-86.),(1989,-89.),(1990,-101.),(1991,-73.),\n",
    "        (1992,-73.), (1993, -98.),(1994,-75.), (1995,-92.),(1996, -59.),(1997, -110.),(1998, -93.),(1999, -87.),(2000, -89.), \n",
    "        (2001,-79.), (2002, -84.),(2003,-95.), (2004,-71.),(2005, -97.),(2006, -60.), (2007, -77.),(2008, -85.), (2009, -85.),\n",
    "        (2010,-114.),(2013, -108.), (2011,-131.),(2012,-68.),(2014,-89.), (2015, -101.)], 'spline101')"
   ]
  },
  {
   "cell_type": "code",
   "execution_count": null,
   "metadata": {
    "collapsed": true
   },
   "outputs": [],
   "source": []
  }
 ],
 "metadata": {
  "kernelspec": {
   "display_name": "Python 3",
   "language": "python",
   "name": "python3"
  },
  "language_info": {
   "codemirror_mode": {
    "name": "ipython",
    "version": 3
   },
   "file_extension": ".py",
   "mimetype": "text/x-python",
   "name": "python",
   "nbconvert_exporter": "python",
   "pygments_lexer": "ipython3",
   "version": "3.6.0"
  }
 },
 "nbformat": 4,
 "nbformat_minor": 2
}
